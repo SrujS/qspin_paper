{
 "cells": [
  {
   "cell_type": "markdown",
   "metadata": {},
   "source": [
    "### Single Particle Systems: the fermionic SSH model\n",
    "\n",
    "This tutorial shows how to use QuSpin to construct single-particle Hamiltonians in real space and momentum space. To demonstrate this, we use the Su-Schrieffer-Heeger (SSH) model of free spinless fermions on a dimerised chain:\n",
    "$$ H = \\sum_{j=0}^{L-1} -(J+(-1)^j\\delta J)\\left(c_jc^\\dagger_{j+1} - c^\\dagger_{j}c_{j+1}\\right) + \\Delta\\sum_{j=0}^{L-1}(-1)^jn_j,$$\n",
    "where $J$ is the uniform component of the hopping and $\\delta J$ -- the dimerisation, and $\\Delta$ -- the staggered potential. \n",
    "\n",
    "We begin by loading the QuSpin libraries and define the model parameters"
   ]
  },
  {
   "cell_type": "code",
   "execution_count": 1,
   "metadata": {
    "collapsed": true
   },
   "outputs": [],
   "source": [
    "from quspin.operators import hamiltonian # Hamiltonians and operators\n",
    "from quspin.basis import fermion_basis_1d # Hilbert space fermion basis\n",
    "from quspin.tools.block_tools import block_diag_hamiltonian # block diagonalisation\n",
    "import numpy as np # generic math functions\n",
    "#\n",
    "##### define model parameters #####\n",
    "L=6 # system size\n",
    "J=1.0 # uniform hopping contribution\n",
    "deltaJ=0.1 # bond dimerisation\n",
    "Delta=0.5 # staggered potential"
   ]
  },
  {
   "cell_type": "markdown",
   "metadata": {},
   "source": [
    "Next, we construct the fermion basis using the constructor `fermion_basis_1d`. Since we are interested in a free mode, it suffices to consider a single particle `Nf=1`."
   ]
  },
  {
   "cell_type": "code",
   "execution_count": 2,
   "metadata": {
    "collapsed": false
   },
   "outputs": [
    {
     "name": "stdout",
     "output_type": "stream",
     "text": [
      "reference states: \n",
      "\t0.  |1 0 0 0 0 0>\n",
      "\t1.  |0 1 0 0 0 0>\n",
      "\t2.  |0 0 1 0 0 0>\n",
      "\t3.  |0 0 0 1 0 0>\n",
      "\t4.  |0 0 0 0 1 0>\n",
      "\t5.  |0 0 0 0 0 1>\n"
     ]
    }
   ],
   "source": [
    "##### construct single-particle Hamiltonian #####\n",
    "# define basis\n",
    "basis=fermion_basis_1d(L,Nf=1)\n",
    "print(basis)"
   ]
  },
  {
   "cell_type": "markdown",
   "metadata": {},
   "source": [
    "In defining the site-coupling list, we set a convention that the operator indices grow to the right (this is not required by QuSpin, it's merely our choice and we do it for convenience), as written out in the Hamiltonian above. Thus, the fermion hopping operator (unlike bosons) requires two different lists to reflect the sign flip in the hermitian conjugate term.\n",
    "\n",
    "The static and dynamic lists as well as building the real-space Hamiltonian is the same as for the BHM. Last, we diagonalise the real-space Hamiltonian. "
   ]
  },
  {
   "cell_type": "code",
   "execution_count": 3,
   "metadata": {
    "collapsed": false
   },
   "outputs": [
    {
     "name": "stdout",
     "output_type": "stream",
     "text": [
      "Hermiticity check passed!\n",
      "Symmetry checks passed!\n",
      "Particle conservation check passed!\n",
      "[[ 0.5 -1.1  0.   0.   0.  -0.9]\n",
      " [-1.1 -0.5 -0.9  0.   0.   0. ]\n",
      " [ 0.  -0.9  0.5 -1.1  0.   0. ]\n",
      " [ 0.   0.  -1.1 -0.5 -0.9  0. ]\n",
      " [ 0.   0.   0.  -0.9  0.5 -1.1]\n",
      " [-0.9  0.   0.   0.  -1.1 -0.5]]\n"
     ]
    }
   ],
   "source": [
    "# define site-coupling lists\n",
    "hop_pm=[[-J-deltaJ*(-1)**i,i,(i+1)%L] for i in range(L)] # PBC\n",
    "hop_mp=[[+J+deltaJ*(-1)**i,i,(i+1)%L] for i in range(L)] # PBC\n",
    "stagg_pot=[[Delta*(-1)**i,i] for i in range(L)]\t\n",
    "# define static and dynamic lists\n",
    "static=[[\"+-\",hop_pm],[\"-+\",hop_mp],['n',stagg_pot]]\n",
    "dynamic=[]\n",
    "# build real-space Hamiltonian\n",
    "H=hamiltonian(static,dynamic,basis=basis,dtype=np.float64)\n",
    "print(H.toarray())\n",
    "# diagonalise real-space Hamiltonian\n",
    "E,V=H.eigh()"
   ]
  },
  {
   "cell_type": "markdown",
   "metadata": {},
   "source": [
    "In momentum space, the Hamiltonian becomes block diagonal:\n",
    "$$ H \\!=\\! \\sum_{k\\in\\mathrm{BZ'}} (a^\\dagger_k,b^\\dagger_k)\n",
    "\\left(\\begin{array}{cc}\n",
    "\\Delta & -(J+\\delta J)\\mathrm e^{-i k} - (J-\\delta J)\\mathrm e^{+i k} \\\\\n",
    "-(J+\\delta J)\\mathrm e^{+i k} - (J-\\delta J)\\mathrm e^{-i k} & -\\Delta\n",
    "\\end{array}\n",
    "\\right)\n",
    "\\left(\\! \\begin{array}{c}\n",
    "a_k\\\\\n",
    "b_k\n",
    "\\end{array}\n",
    "\\!\\right)$$\n",
    "\n",
    "For translation invariant single-particle models, therefore, the user might prefer to use momentum space, where the Hamiltonian becomes block diagonal, as we showed above. This can be achieved using QuSpin's \\texttt{block\\_tools}. The idea behind it is simple: the main purpose is to create the full Hamiltonian in block-diagonal form, where the blocks correspond to pre-defined quantum numbers. In our case, we would like to use momentum or \\texttt{kblock}'s. Note that the unit cell in the SSH model contains two sites, which we encode using the variable \\texttt{a=2}. Thus, we can create a list of dictionaries \\texttt{blocks}, each element of which defines a single symmetry block. If we combine all blocks, we exhaust the full Hilbert space. All other basis arguments, such as the system size, we store in the variable \\texttt{basis\\_args}. We mention in passing that this procedure is independent of the symmetry, and can be done using all symmetries supported by QuSpin, not only translation."
   ]
  },
  {
   "cell_type": "code",
   "execution_count": 4,
   "metadata": {
    "collapsed": true
   },
   "outputs": [],
   "source": [
    "# define basis blocks and arguments\n",
    "blocks=[dict(Nf=1,kblock=i,a=2) for i in range(L//2)] # only L//2 distinct momenta\n",
    "basis_args = (L,)"
   ]
  },
  {
   "cell_type": "markdown",
   "metadata": {},
   "source": [
    "To create the block-diagonal Hamiltonian, we invoke the \\texttt{block\\_diag\\_hamiltonian} method. It takes both requires and optional arguments, and returns the transformation which block-diagonalises the Hamiltonian (in our case the Fourier transform) and the block-diagonal Hamiltonian object. Required arguments, in order of appearance, are the \\texttt{blocks}, the \\texttt{static} and \\texttt{dynamic} lists, the basis constructor, \\texttt{basis\\_args}, and the data type. Since we expect the Hamiltonian to contain the Fourier factors $\\exp(-ik)$, we know to choose a complex data type. \\texttt{block\\_diag\\_hamiltonian} also accepts some optional arguments, such as the flags for disabling the automatic built-in symmetry checks."
   ]
  },
  {
   "cell_type": "code",
   "execution_count": 13,
   "metadata": {
    "collapsed": false
   },
   "outputs": [
    {
     "name": "stdout",
     "output_type": "stream",
     "text": [
      "Hermiticity check passed!\n",
      "Symmetry checks passed!\n",
      "Particle conservation check passed!\n",
      "[[ 0.50+0.j   -2.00+0.j    0.00+0.j    0.00+0.j    0.00+0.j    0.00+0.j  ]\n",
      " [-2.00+0.j   -0.50+0.j    0.00+0.j    0.00+0.j    0.00+0.j    0.00+0.j  ]\n",
      " [ 0.00+0.j    0.00+0.j    0.50+0.j   -0.65+0.78j  0.00+0.j    0.00+0.j  ]\n",
      " [ 0.00+0.j    0.00+0.j   -0.65-0.78j -0.50+0.j    0.00+0.j    0.00+0.j  ]\n",
      " [ 0.00+0.j    0.00+0.j    0.00+0.j    0.00+0.j    0.50+0.j   -0.65-0.78j]\n",
      " [ 0.00+0.j    0.00+0.j    0.00+0.j    0.00+0.j   -0.65+0.78j -0.50+0.j  ]]\n"
     ]
    }
   ],
   "source": [
    "# construct block-diagonal Hamiltonian\n",
    "FT,Hblock = block_diag_hamiltonian(blocks,static,dynamic,fermion_basis_1d,basis_args,np.complex128,\n",
    "                                   get_proj_kwargs=dict(pcon=True))\n",
    "print(np.around(Hblock.toarray(),2))\n",
    "# diagonalise momentum-space Hamiltonian\n",
    "Eblock,Vblock=Hblock.eigh()"
   ]
  },
  {
   "cell_type": "markdown",
   "metadata": {},
   "source": [
    "We now compare the two spectra, to check if they match"
   ]
  },
  {
   "cell_type": "code",
   "execution_count": 11,
   "metadata": {
    "collapsed": false
   },
   "outputs": [
    {
     "data": {
      "image/png": "[encoded data removed]",
      "text/plain": [
       "<matplotlib.figure.Figure at 0x11baf1ad0>"
      ]
     },
     "metadata": {},
     "output_type": "display_data"
    }
   ],
   "source": [
    "##### plot spectra\n",
    "%matplotlib inline\n",
    "plt.plot(np.arange(H.Ns),E/L,marker='o',color='b',label='real space')\n",
    "plt.plot(np.arange(Hblock.Ns),Eblock/L,marker='x',color='r',markersize=2,label='momentum space')\n",
    "plt.xlabel('state number',fontsize=16)\n",
    "plt.ylabel('energy',fontsize=16)\n",
    "plt.xticks(fontsize=16)\n",
    "plt.yticks(fontsize=16)\n",
    "plt.legend(fontsize=16)\n",
    "plt.grid()\n",
    "plt.tight_layout()\n",
    "plt.show()"
   ]
  },
  {
   "cell_type": "code",
   "execution_count": null,
   "metadata": {
    "collapsed": true
   },
   "outputs": [],
   "source": []
  }
 ],
 "metadata": {
  "anaconda-cloud": {},
  "kernelspec": {
   "display_name": "Python [Root]",
   "language": "python",
   "name": "Python [Root]"
  },
  "language_info": {
   "codemirror_mode": {
    "name": "ipython",
    "version": 2
   },
   "file_extension": ".py",
   "mimetype": "text/x-python",
   "name": "python",
   "nbconvert_exporter": "python",
   "pygments_lexer": "ipython2",
   "version": "2.7.12"
  }
 },
 "nbformat": 4,
 "nbformat_minor": 0
}
